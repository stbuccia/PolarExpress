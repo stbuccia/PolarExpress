{
  "nbformat": 4,
  "nbformat_minor": 0,
  "metadata": {
    "colab": {
      "provenance": []
    },
    "kernelspec": {
      "name": "python3",
      "display_name": "Python 3"
    },
    "language_info": {
      "name": "python"
    }
  },
  "cells": [
    {
      "cell_type": "markdown",
      "source": [
        "The purpose of the project is to learn the mapping from polar coordinates to a a discrete 10x10 grid of cells in the plane, using a neural network. \n",
        "\n",
        "The supervised dataset is given to you in the form of a generator (to be considered as a black box).\n",
        "\n",
        "The model must achieve an accuracy of 95%, and it will be evaluated in a way **inversely proportional to the number of its parameters: the smaller, the better.**\n",
        "\n",
        "**WARNING**: Any solution taking advantage of meta-knowledge about the generator will be automatically rejected."
      ],
      "metadata": {
        "id": "Zw_326KLT9dF"
      }
    },
    {
      "cell_type": "code",
      "execution_count": 1,
      "metadata": {
        "id": "ynz-4_4cFmbJ"
      },
      "outputs": [],
      "source": [
        "import numpy as np\n",
        "import tensorflow as tf\n",
        "from tensorflow.keras.layers import Input, Dense, Reshape, Concatenate\n",
        "from tensorflow.keras.models import Model"
      ]
    },
    {
      "cell_type": "markdown",
      "source": [
        "Here is the generator. It returns triples of the form ((theta,rho),out) where (theta,rho) are the polar coordinates of a point in the first quadrant of the plane, and out is a 10x10 map with \"1\" in the cell corresponding to the point position, and \"0\" everywhere else.\n",
        "\n",
        "By setting flat=True, the resulting map is flattened into a vector with a single dimension 100. You can use this variant, if you wish. "
      ],
      "metadata": {
        "id": "iA01pkKbUt7Q"
      }
    },
    {
      "cell_type": "code",
      "source": [
        "def polar_generator(batchsize,grid=(10,10),noise=.002,flat=False):\n",
        "  while True:\n",
        "    x = np.random.rand(batchsize)\n",
        "    y = np.random.rand(batchsize)\n",
        "    out = np.zeros((batchsize,grid[0],grid[1]))\n",
        "    xc = (x*grid[0]).astype(int)\n",
        "    yc = (y*grid[1]).astype(int)\n",
        "    for b in range(batchsize):\n",
        "      out[b,xc[b],yc[b]] = 1\n",
        "    #compute rho and theta and add some noise\n",
        "    rho = np.sqrt(x**2+y**2) + np.random.normal(scale=noise)\n",
        "    theta = np.arctan(y/np.maximum(x,.00001)) + np.random.normal(scale=noise)\n",
        "    if flat:\n",
        "      out = np.reshape(out,(batchsize,grid[0]*grid[1]))\n",
        "    yield ((theta,rho),out)"
      ],
      "metadata": {
        "id": "DsA1GqAeWAdo"
      },
      "execution_count": 2,
      "outputs": []
    },
    {
      "cell_type": "markdown",
      "source": [
        "Let's create an instance of the generator on a grid with dimension 3x4"
      ],
      "metadata": {
        "id": "ZF-jlaqAWc2o"
      }
    },
    {
      "cell_type": "code",
      "source": [
        "g1,g2 = 3,4\n",
        "gen = polar_generator(1,grid=(g1,g2),noise=0.0)"
      ],
      "metadata": {
        "id": "Ov3rXaLVHDCT"
      },
      "execution_count": 3,
      "outputs": []
    },
    {
      "cell_type": "markdown",
      "source": [
        "And now let's see a few samples."
      ],
      "metadata": {
        "id": "b4hntQtSWjPk"
      }
    },
    {
      "cell_type": "code",
      "source": [
        "(theta,rho),maps = next(gen)\n",
        "for i,map in enumerate(maps):\n",
        "  #let us compute the cartesian coordinates\n",
        "  x = np.cos(theta[i])*rho[i]\n",
        "  y = np.sin(theta[i])*rho[i]\n",
        "  print(\"x coordinate (row): {}\".format(int(x*g1)))\n",
        "  print(\"y coordinate (col): {}\".format(int(y*g2)))\n",
        "  print(\"map:\")\n",
        "  print(np.reshape(map,(g1,g2)))"
      ],
      "metadata": {
        "colab": {
          "base_uri": "https://localhost:8080/"
        },
        "id": "PM7R8ZZZHN7p",
        "outputId": "e67c454f-e7fa-44b7-d2d2-68ce9c884ec9"
      },
      "execution_count": 4,
      "outputs": [
        {
          "output_type": "stream",
          "name": "stdout",
          "text": [
            "x coordinate (row): 1\n",
            "y coordinate (col): 3\n",
            "map:\n",
            "[[0. 0. 0. 0.]\n",
            " [0. 0. 0. 1.]\n",
            " [0. 0. 0. 0.]]\n"
          ]
        }
      ]
    },
    {
      "cell_type": "markdown",
      "source": [
        "Exercise: add noise to the generator, and check the effect on the \"ground truth\"."
      ],
      "metadata": {
        "id": "NTY5fu8Hg7RE"
      }
    },
    {
      "cell_type": "markdown",
      "source": [
        "# What to deliver\n",
        "\n",
        "For the purposes of the project you are supposed to work with the **default 10x10 grid, and the default noise=.002**\n",
        "\n",
        "The generator must be treatead as a black box, do not tweak it, and do not exploit its semantics that is supposed to be unknown. You are allowed to work with the \"flat\" modality, if you prefer so.\n",
        "\n",
        "You need to:\n",
        "1.   define an accuracy function (take inspiration from the code of the previous cell)\n",
        "2.   define a neural network taking in input theta and rho, and returning out\n",
        "3. measure the network's accuracy that must be above 95% (accuracy must be evaluated over at least 20000 samples)\n",
        "4. tune the network trying to decrease as much as possible the numer of parameters, preserving an accuracy above 95%. Only your best network must be delivered.\n",
        "\n",
        "You must deliver a SINGLE notebook working on colab, containing the code of the network, its summary, the training history, the code for the accurary metric and its evaluation on the network.\n",
        "\n",
        "**N.B.** The accuracy must be above 95% but apart from that it does not influence the evaluation. You score will only depend on the number of parameters: the lower, the better.\n",
        "\n",
        "#Good work!\n",
        "\n",
        "\n",
        "\n"
      ],
      "metadata": {
        "id": "jj4akvA24maJ"
      }
    },
    {
      "cell_type": "markdown",
      "metadata": {
        "id": "rPmM-TvTfjoW"
      },
      "source": [
        "# Implementation\n",
        "\n",
        "From this point starts my work."
      ]
    },
    {
      "cell_type": "markdown",
      "source": [
        "Dimensions of the matrix output are parameterized"
      ],
      "metadata": {
        "id": "z-OkmVqzOHYI"
      }
    },
    {
      "cell_type": "code",
      "source": [
        "g1,g2 = 10,10"
      ],
      "metadata": {
        "id": "AW5sej_wN0DJ"
      },
      "execution_count": 5,
      "outputs": []
    },
    {
      "cell_type": "markdown",
      "metadata": {
        "id": "_hj0PHSCfYHu"
      },
      "source": [
        "## Accuracy Function\n",
        "\n",
        "In order to have a good precised accuracy, the evaluation takes 200000 validation samples from the generator, that returns the input (theta and rho) and the correct output tensors. The predicted cartesian coordinates are evaluated appling the NN on input tensors and, for each matrix of the output, and taking row and column positions of the value most similar to 1. Then is counted the correct predictions over the total.  "
      ]
    },
    {
      "cell_type": "code",
      "execution_count": 6,
      "metadata": {
        "id": "IqxH7ZZnBQAp"
      },
      "outputs": [],
      "source": [
        "def accuracy(model):\n",
        "  gen = polar_generator(200000)\n",
        "  (theta,rho),maps_true = next(gen)\n",
        "\n",
        "\n",
        "  maps_pred = model.predict([np.array(theta), np.array(rho)])\n",
        "\n",
        "  correct_predictions = 0\n",
        "  total_predictions = len(maps_true)\n",
        "\n",
        "  for i,map_pred in enumerate(maps_pred):\n",
        "\n",
        "    (x_pred,y_pred) = np.unravel_index(map_pred.argmax(), map_pred.shape)\n",
        "\n",
        "    x= np.cos(theta[i])*rho[i]\n",
        "    y = np.sin(theta[i])*rho[i]\n",
        "    x_true = int(x*g1)\n",
        "    y_true = int(y*g2)\n",
        "\n",
        "    if x_true == x_pred and y_true == y_pred :\n",
        "      correct_predictions = correct_predictions + 1\n",
        "\n",
        "  return correct_predictions/total_predictions\n"
      ]
    },
    {
      "cell_type": "markdown",
      "metadata": {
        "id": "ddDS9YlZfdhZ"
      },
      "source": [
        "## Neural Network\n",
        "\n"
      ]
    },
    {
      "cell_type": "markdown",
      "source": [
        "### Definition"
      ],
      "metadata": {
        "id": "IsUMX-WsTizX"
      }
    },
    {
      "cell_type": "code",
      "execution_count": 7,
      "metadata": {
        "id": "CF14fSOv4vmp"
      },
      "outputs": [],
      "source": [
        "input_layer_1 = Input(shape=(1,))\n",
        "input_layer_2 = Input(shape=(1,))\n",
        "\n",
        "\n",
        "x = Concatenate(axis=1)([input_layer_1, input_layer_2])\n",
        "\n",
        "hidden_layers_dims = [5,5]\n",
        "for i in range(0,len(hidden_layers_dims)):\n",
        "  x = Dense(hidden_layers_dims[i], activation='relu')(x)\n",
        "\n",
        "x = Dense(g1*g2, activation='softmax')(x)\n",
        "output_layer = Reshape((g1,g2))(x)\n",
        "\n",
        "model = Model([input_layer_1,input_layer_2],output_layer)"
      ]
    },
    {
      "cell_type": "markdown",
      "metadata": {
        "id": "4xhd_JDCfwtk"
      },
      "source": [
        "### Summary"
      ]
    },
    {
      "cell_type": "code",
      "execution_count": 8,
      "metadata": {
        "id": "TZe0W0qW42tl",
        "colab": {
          "base_uri": "https://localhost:8080/"
        },
        "outputId": "e559908a-0ce0-4392-f076-584329ca552d"
      },
      "outputs": [
        {
          "output_type": "stream",
          "name": "stdout",
          "text": [
            "Model: \"model\"\n",
            "__________________________________________________________________________________________________\n",
            " Layer (type)                   Output Shape         Param #     Connected to                     \n",
            "==================================================================================================\n",
            " input_1 (InputLayer)           [(None, 1)]          0           []                               \n",
            "                                                                                                  \n",
            " input_2 (InputLayer)           [(None, 1)]          0           []                               \n",
            "                                                                                                  \n",
            " concatenate (Concatenate)      (None, 2)            0           ['input_1[0][0]',                \n",
            "                                                                  'input_2[0][0]']                \n",
            "                                                                                                  \n",
            " dense (Dense)                  (None, 5)            15          ['concatenate[0][0]']            \n",
            "                                                                                                  \n",
            " dense_1 (Dense)                (None, 5)            30          ['dense[0][0]']                  \n",
            "                                                                                                  \n",
            " dense_2 (Dense)                (None, 100)          600         ['dense_1[0][0]']                \n",
            "                                                                                                  \n",
            " reshape (Reshape)              (None, 10, 10)       0           ['dense_2[0][0]']                \n",
            "                                                                                                  \n",
            "==================================================================================================\n",
            "Total params: 645\n",
            "Trainable params: 645\n",
            "Non-trainable params: 0\n",
            "__________________________________________________________________________________________________\n"
          ]
        }
      ],
      "source": [
        "model.summary()"
      ]
    },
    {
      "cell_type": "markdown",
      "source": [
        "### Training\n",
        "\n",
        "The NN takes about 20 minutes to be trained"
      ],
      "metadata": {
        "id": "mHZowzmPE1Lb"
      }
    },
    {
      "cell_type": "code",
      "execution_count": 9,
      "metadata": {
        "id": "FdcU2v9r44eL"
      },
      "outputs": [],
      "source": [
        "model.compile(optimizer='adam',loss='mse')"
      ]
    },
    {
      "cell_type": "code",
      "execution_count": 10,
      "metadata": {
        "id": "TFGPu-5E46L_",
        "colab": {
          "base_uri": "https://localhost:8080/"
        },
        "outputId": "bf996207-48f5-4fe7-874d-d977d6f8c8ae"
      },
      "outputs": [
        {
          "output_type": "stream",
          "name": "stdout",
          "text": [
            "Epoch 1/150\n",
            "1000/1000 [==============================] - 16s 16ms/step - loss: 0.0095\n",
            "Epoch 2/150\n",
            "1000/1000 [==============================] - 7s 7ms/step - loss: 0.0071\n",
            "Epoch 3/150\n",
            "1000/1000 [==============================] - 7s 7ms/step - loss: 0.0052\n",
            "Epoch 4/150\n",
            "1000/1000 [==============================] - 6s 6ms/step - loss: 0.0042\n",
            "Epoch 5/150\n",
            "1000/1000 [==============================] - 6s 6ms/step - loss: 0.0036\n",
            "Epoch 6/150\n",
            "1000/1000 [==============================] - 6s 6ms/step - loss: 0.0032\n",
            "Epoch 7/150\n",
            "1000/1000 [==============================] - 6s 6ms/step - loss: 0.0030\n",
            "Epoch 8/150\n",
            "1000/1000 [==============================] - 7s 7ms/step - loss: 0.0028\n",
            "Epoch 9/150\n",
            "1000/1000 [==============================] - 6s 6ms/step - loss: 0.0026\n",
            "Epoch 10/150\n",
            "1000/1000 [==============================] - 7s 7ms/step - loss: 0.0025\n",
            "Epoch 11/150\n",
            "1000/1000 [==============================] - 7s 7ms/step - loss: 0.0023\n",
            "Epoch 12/150\n",
            "1000/1000 [==============================] - 7s 7ms/step - loss: 0.0023\n",
            "Epoch 13/150\n",
            "1000/1000 [==============================] - 6s 6ms/step - loss: 0.0022\n",
            "Epoch 14/150\n",
            "1000/1000 [==============================] - 6s 6ms/step - loss: 0.0021\n",
            "Epoch 15/150\n",
            "1000/1000 [==============================] - 6s 6ms/step - loss: 0.0020\n",
            "Epoch 16/150\n",
            "1000/1000 [==============================] - 7s 7ms/step - loss: 0.0020\n",
            "Epoch 17/150\n",
            "1000/1000 [==============================] - 7s 7ms/step - loss: 0.0019\n",
            "Epoch 18/150\n",
            "1000/1000 [==============================] - 7s 7ms/step - loss: 0.0019\n",
            "Epoch 19/150\n",
            "1000/1000 [==============================] - 7s 7ms/step - loss: 0.0019\n",
            "Epoch 20/150\n",
            "1000/1000 [==============================] - 6s 6ms/step - loss: 0.0018\n",
            "Epoch 21/150\n",
            "1000/1000 [==============================] - 6s 6ms/step - loss: 0.0018\n",
            "Epoch 22/150\n",
            "1000/1000 [==============================] - 7s 7ms/step - loss: 0.0018\n",
            "Epoch 23/150\n",
            "1000/1000 [==============================] - 7s 7ms/step - loss: 0.0017\n",
            "Epoch 24/150\n",
            "1000/1000 [==============================] - 7s 7ms/step - loss: 0.0017\n",
            "Epoch 25/150\n",
            "1000/1000 [==============================] - 7s 7ms/step - loss: 0.0017\n",
            "Epoch 26/150\n",
            "1000/1000 [==============================] - 7s 7ms/step - loss: 0.0016\n",
            "Epoch 27/150\n",
            "1000/1000 [==============================] - 7s 7ms/step - loss: 0.0016\n",
            "Epoch 28/150\n",
            "1000/1000 [==============================] - 6s 6ms/step - loss: 0.0016\n",
            "Epoch 29/150\n",
            "1000/1000 [==============================] - 7s 7ms/step - loss: 0.0016\n",
            "Epoch 30/150\n",
            "1000/1000 [==============================] - 6s 6ms/step - loss: 0.0016\n",
            "Epoch 31/150\n",
            "1000/1000 [==============================] - 7s 7ms/step - loss: 0.0015\n",
            "Epoch 32/150\n",
            "1000/1000 [==============================] - 7s 7ms/step - loss: 0.0015\n",
            "Epoch 33/150\n",
            "1000/1000 [==============================] - 7s 7ms/step - loss: 0.0015\n",
            "Epoch 34/150\n",
            "1000/1000 [==============================] - 7s 7ms/step - loss: 0.0015\n",
            "Epoch 35/150\n",
            "1000/1000 [==============================] - 7s 7ms/step - loss: 0.0015\n",
            "Epoch 36/150\n",
            "1000/1000 [==============================] - 7s 7ms/step - loss: 0.0015\n",
            "Epoch 37/150\n",
            "1000/1000 [==============================] - 7s 7ms/step - loss: 0.0014\n",
            "Epoch 38/150\n",
            "1000/1000 [==============================] - 7s 7ms/step - loss: 0.0014\n",
            "Epoch 39/150\n",
            "1000/1000 [==============================] - 7s 7ms/step - loss: 0.0014\n",
            "Epoch 40/150\n",
            "1000/1000 [==============================] - 7s 7ms/step - loss: 0.0014\n",
            "Epoch 41/150\n",
            "1000/1000 [==============================] - 7s 7ms/step - loss: 0.0014\n",
            "Epoch 42/150\n",
            "1000/1000 [==============================] - 7s 7ms/step - loss: 0.0014\n",
            "Epoch 43/150\n",
            "1000/1000 [==============================] - 7s 7ms/step - loss: 0.0014\n",
            "Epoch 44/150\n",
            "1000/1000 [==============================] - 7s 7ms/step - loss: 0.0014\n",
            "Epoch 45/150\n",
            "1000/1000 [==============================] - 7s 7ms/step - loss: 0.0013\n",
            "Epoch 46/150\n",
            "1000/1000 [==============================] - 7s 7ms/step - loss: 0.0013\n",
            "Epoch 47/150\n",
            "1000/1000 [==============================] - 7s 7ms/step - loss: 0.0013\n",
            "Epoch 48/150\n",
            "1000/1000 [==============================] - 7s 7ms/step - loss: 0.0013\n",
            "Epoch 49/150\n",
            "1000/1000 [==============================] - 7s 7ms/step - loss: 0.0013\n",
            "Epoch 50/150\n",
            "1000/1000 [==============================] - 7s 7ms/step - loss: 0.0013\n",
            "Epoch 51/150\n",
            "1000/1000 [==============================] - 7s 7ms/step - loss: 0.0013\n",
            "Epoch 52/150\n",
            "1000/1000 [==============================] - 7s 7ms/step - loss: 0.0013\n",
            "Epoch 53/150\n",
            "1000/1000 [==============================] - 7s 7ms/step - loss: 0.0013\n",
            "Epoch 54/150\n",
            "1000/1000 [==============================] - 7s 7ms/step - loss: 0.0013\n",
            "Epoch 55/150\n",
            "1000/1000 [==============================] - 7s 7ms/step - loss: 0.0012\n",
            "Epoch 56/150\n",
            "1000/1000 [==============================] - 7s 7ms/step - loss: 0.0012\n",
            "Epoch 57/150\n",
            "1000/1000 [==============================] - 7s 7ms/step - loss: 0.0012\n",
            "Epoch 58/150\n",
            "1000/1000 [==============================] - 7s 7ms/step - loss: 0.0012\n",
            "Epoch 59/150\n",
            "1000/1000 [==============================] - 7s 7ms/step - loss: 0.0012\n",
            "Epoch 60/150\n",
            "1000/1000 [==============================] - 7s 7ms/step - loss: 0.0012\n",
            "Epoch 61/150\n",
            "1000/1000 [==============================] - 7s 7ms/step - loss: 0.0012\n",
            "Epoch 62/150\n",
            "1000/1000 [==============================] - 7s 7ms/step - loss: 0.0012\n",
            "Epoch 63/150\n",
            "1000/1000 [==============================] - 7s 7ms/step - loss: 0.0012\n",
            "Epoch 64/150\n",
            "1000/1000 [==============================] - 7s 7ms/step - loss: 0.0012\n",
            "Epoch 65/150\n",
            "1000/1000 [==============================] - 7s 7ms/step - loss: 0.0012\n",
            "Epoch 66/150\n",
            "1000/1000 [==============================] - 7s 7ms/step - loss: 0.0012\n",
            "Epoch 67/150\n",
            "1000/1000 [==============================] - 7s 7ms/step - loss: 0.0012\n",
            "Epoch 68/150\n",
            "1000/1000 [==============================] - 7s 7ms/step - loss: 0.0012\n",
            "Epoch 69/150\n",
            "1000/1000 [==============================] - 7s 7ms/step - loss: 0.0011\n",
            "Epoch 70/150\n",
            "1000/1000 [==============================] - 7s 7ms/step - loss: 0.0011\n",
            "Epoch 71/150\n",
            "1000/1000 [==============================] - 7s 7ms/step - loss: 0.0011\n",
            "Epoch 72/150\n",
            "1000/1000 [==============================] - 7s 7ms/step - loss: 0.0011\n",
            "Epoch 73/150\n",
            "1000/1000 [==============================] - 7s 7ms/step - loss: 0.0011\n",
            "Epoch 74/150\n",
            "1000/1000 [==============================] - 7s 7ms/step - loss: 0.0011\n",
            "Epoch 75/150\n",
            "1000/1000 [==============================] - 7s 7ms/step - loss: 0.0011\n",
            "Epoch 76/150\n",
            "1000/1000 [==============================] - 7s 7ms/step - loss: 0.0011\n",
            "Epoch 77/150\n",
            "1000/1000 [==============================] - 7s 7ms/step - loss: 0.0011\n",
            "Epoch 78/150\n",
            "1000/1000 [==============================] - 7s 7ms/step - loss: 0.0011\n",
            "Epoch 79/150\n",
            "1000/1000 [==============================] - 7s 7ms/step - loss: 0.0011\n",
            "Epoch 80/150\n",
            "1000/1000 [==============================] - 7s 7ms/step - loss: 0.0011\n",
            "Epoch 81/150\n",
            "1000/1000 [==============================] - 7s 7ms/step - loss: 0.0011\n",
            "Epoch 82/150\n",
            "1000/1000 [==============================] - 7s 7ms/step - loss: 0.0011\n",
            "Epoch 83/150\n",
            "1000/1000 [==============================] - 7s 7ms/step - loss: 0.0011\n",
            "Epoch 84/150\n",
            "1000/1000 [==============================] - 7s 7ms/step - loss: 0.0011\n",
            "Epoch 85/150\n",
            "1000/1000 [==============================] - 7s 7ms/step - loss: 0.0011\n",
            "Epoch 86/150\n",
            "1000/1000 [==============================] - 7s 7ms/step - loss: 0.0011\n",
            "Epoch 87/150\n",
            "1000/1000 [==============================] - 7s 7ms/step - loss: 0.0011\n",
            "Epoch 88/150\n",
            "1000/1000 [==============================] - 7s 7ms/step - loss: 0.0011\n",
            "Epoch 89/150\n",
            "1000/1000 [==============================] - 7s 7ms/step - loss: 0.0010\n",
            "Epoch 90/150\n",
            "1000/1000 [==============================] - 7s 7ms/step - loss: 0.0010\n",
            "Epoch 91/150\n",
            "1000/1000 [==============================] - 7s 7ms/step - loss: 0.0010\n",
            "Epoch 92/150\n",
            "1000/1000 [==============================] - 7s 7ms/step - loss: 0.0010\n",
            "Epoch 93/150\n",
            "1000/1000 [==============================] - 7s 7ms/step - loss: 0.0010\n",
            "Epoch 94/150\n",
            "1000/1000 [==============================] - 7s 7ms/step - loss: 0.0010\n",
            "Epoch 95/150\n",
            "1000/1000 [==============================] - 7s 7ms/step - loss: 0.0010\n",
            "Epoch 96/150\n",
            "1000/1000 [==============================] - 7s 7ms/step - loss: 0.0010\n",
            "Epoch 97/150\n",
            "1000/1000 [==============================] - 7s 7ms/step - loss: 0.0010\n",
            "Epoch 98/150\n",
            "1000/1000 [==============================] - 7s 7ms/step - loss: 0.0010\n",
            "Epoch 99/150\n",
            "1000/1000 [==============================] - 7s 7ms/step - loss: 0.0010\n",
            "Epoch 100/150\n",
            "1000/1000 [==============================] - 7s 7ms/step - loss: 0.0010\n",
            "Epoch 101/150\n",
            "1000/1000 [==============================] - 7s 7ms/step - loss: 0.0010\n",
            "Epoch 102/150\n",
            "1000/1000 [==============================] - 7s 7ms/step - loss: 9.9820e-04\n",
            "Epoch 103/150\n",
            "1000/1000 [==============================] - 7s 7ms/step - loss: 9.9203e-04\n",
            "Epoch 104/150\n",
            "1000/1000 [==============================] - 7s 7ms/step - loss: 9.8858e-04\n",
            "Epoch 105/150\n",
            "1000/1000 [==============================] - 7s 7ms/step - loss: 9.8416e-04\n",
            "Epoch 106/150\n",
            "1000/1000 [==============================] - 7s 7ms/step - loss: 9.7971e-04\n",
            "Epoch 107/150\n",
            "1000/1000 [==============================] - 7s 7ms/step - loss: 9.7531e-04\n",
            "Epoch 108/150\n",
            "1000/1000 [==============================] - 7s 7ms/step - loss: 9.7162e-04\n",
            "Epoch 109/150\n",
            "1000/1000 [==============================] - 7s 7ms/step - loss: 9.7015e-04\n",
            "Epoch 110/150\n",
            "1000/1000 [==============================] - 7s 7ms/step - loss: 9.6592e-04\n",
            "Epoch 111/150\n",
            "1000/1000 [==============================] - 7s 7ms/step - loss: 9.5957e-04\n",
            "Epoch 112/150\n",
            "1000/1000 [==============================] - 7s 7ms/step - loss: 9.5457e-04\n",
            "Epoch 113/150\n",
            "1000/1000 [==============================] - 7s 6ms/step - loss: 9.4492e-04\n",
            "Epoch 114/150\n",
            "1000/1000 [==============================] - 7s 7ms/step - loss: 9.4325e-04\n",
            "Epoch 115/150\n",
            "1000/1000 [==============================] - 7s 7ms/step - loss: 9.4077e-04\n",
            "Epoch 116/150\n",
            "1000/1000 [==============================] - 7s 7ms/step - loss: 9.3559e-04\n",
            "Epoch 117/150\n",
            "1000/1000 [==============================] - 7s 7ms/step - loss: 9.3578e-04\n",
            "Epoch 118/150\n",
            "1000/1000 [==============================] - 7s 7ms/step - loss: 9.4035e-04\n",
            "Epoch 119/150\n",
            "1000/1000 [==============================] - 6s 6ms/step - loss: 9.2951e-04\n",
            "Epoch 120/150\n",
            "1000/1000 [==============================] - 7s 7ms/step - loss: 9.2571e-04\n",
            "Epoch 121/150\n",
            "1000/1000 [==============================] - 7s 7ms/step - loss: 9.2389e-04\n",
            "Epoch 122/150\n",
            "1000/1000 [==============================] - 7s 7ms/step - loss: 9.2267e-04\n",
            "Epoch 123/150\n",
            "1000/1000 [==============================] - 6s 6ms/step - loss: 9.2149e-04\n",
            "Epoch 124/150\n",
            "1000/1000 [==============================] - 7s 7ms/step - loss: 9.1748e-04\n",
            "Epoch 125/150\n",
            "1000/1000 [==============================] - 7s 6ms/step - loss: 9.1090e-04\n",
            "Epoch 126/150\n",
            "1000/1000 [==============================] - 6s 6ms/step - loss: 9.0391e-04\n",
            "Epoch 127/150\n",
            "1000/1000 [==============================] - 7s 7ms/step - loss: 9.0849e-04\n",
            "Epoch 128/150\n",
            "1000/1000 [==============================] - 7s 7ms/step - loss: 9.0463e-04\n",
            "Epoch 129/150\n",
            "1000/1000 [==============================] - 7s 7ms/step - loss: 9.0428e-04\n",
            "Epoch 130/150\n",
            "1000/1000 [==============================] - 7s 7ms/step - loss: 8.9621e-04\n",
            "Epoch 131/150\n",
            "1000/1000 [==============================] - 7s 7ms/step - loss: 8.9875e-04\n",
            "Epoch 132/150\n",
            "1000/1000 [==============================] - 7s 7ms/step - loss: 8.9331e-04\n",
            "Epoch 133/150\n",
            "1000/1000 [==============================] - 7s 7ms/step - loss: 8.8720e-04\n",
            "Epoch 134/150\n",
            "1000/1000 [==============================] - 7s 7ms/step - loss: 8.9167e-04\n",
            "Epoch 135/150\n",
            "1000/1000 [==============================] - 7s 7ms/step - loss: 8.8868e-04\n",
            "Epoch 136/150\n",
            "1000/1000 [==============================] - 7s 7ms/step - loss: 8.8282e-04\n",
            "Epoch 137/150\n",
            "1000/1000 [==============================] - 7s 7ms/step - loss: 8.8174e-04\n",
            "Epoch 138/150\n",
            "1000/1000 [==============================] - 7s 7ms/step - loss: 8.8197e-04\n",
            "Epoch 139/150\n",
            "1000/1000 [==============================] - 7s 7ms/step - loss: 8.7828e-04\n",
            "Epoch 140/150\n",
            "1000/1000 [==============================] - 7s 7ms/step - loss: 8.7641e-04\n",
            "Epoch 141/150\n",
            "1000/1000 [==============================] - 7s 7ms/step - loss: 8.7085e-04\n",
            "Epoch 142/150\n",
            "1000/1000 [==============================] - 7s 7ms/step - loss: 8.6511e-04\n",
            "Epoch 143/150\n",
            "1000/1000 [==============================] - 7s 7ms/step - loss: 8.7663e-04\n",
            "Epoch 144/150\n",
            "1000/1000 [==============================] - 7s 7ms/step - loss: 8.6713e-04\n",
            "Epoch 145/150\n",
            "1000/1000 [==============================] - 7s 7ms/step - loss: 8.6677e-04\n",
            "Epoch 146/150\n",
            "1000/1000 [==============================] - 7s 7ms/step - loss: 8.6329e-04\n",
            "Epoch 147/150\n",
            "1000/1000 [==============================] - 7s 7ms/step - loss: 8.6338e-04\n",
            "Epoch 148/150\n",
            "1000/1000 [==============================] - 7s 7ms/step - loss: 8.5565e-04\n",
            "Epoch 149/150\n",
            "1000/1000 [==============================] - 7s 7ms/step - loss: 8.5655e-04\n",
            "Epoch 150/150\n",
            "1000/1000 [==============================] - 7s 7ms/step - loss: 8.5627e-04\n"
          ]
        }
      ],
      "source": [
        "training_samples_number = 4000\n",
        "\n",
        "history = model.fit(polar_generator(training_samples_number), batch_size=128, steps_per_epoch=1000, epochs=150)\n"
      ]
    },
    {
      "cell_type": "markdown",
      "source": [
        "### Training History Representation\n",
        "\n",
        "The chart represent the loss function reduction over the epochs in training"
      ],
      "metadata": {
        "id": "4llszNGJVAt5"
      }
    },
    {
      "cell_type": "code",
      "execution_count": 11,
      "metadata": {
        "colab": {
          "base_uri": "https://localhost:8080/",
          "height": 295
        },
        "id": "7d2mmoQxeKJV",
        "outputId": "592e3fb9-bcbb-4173-e5cf-127661c86c85"
      },
      "outputs": [
        {
          "output_type": "display_data",
          "data": {
            "text/plain": [
              "<Figure size 432x288 with 1 Axes>"
            ],
            "image/png": "[encoded data removed]"
          },
          "metadata": {
            "needs_background": "light"
          }
        }
      ],
      "source": [
        "from matplotlib import pyplot as plt\n",
        "\n",
        "plt.plot(history.history['loss'])\n",
        "plt.title('model loss')\n",
        "plt.ylabel('loss')\n",
        "plt.xlabel('epoch')\n",
        "plt.show()"
      ]
    },
    {
      "cell_type": "markdown",
      "metadata": {
        "id": "KGGheARLFIcz"
      },
      "source": [
        "## Accuracy Evaluation\n",
        "\n",
        "The accuracy of the model is over 95%"
      ]
    },
    {
      "cell_type": "code",
      "execution_count": 12,
      "metadata": {
        "id": "ft_gAo9149l-",
        "colab": {
          "base_uri": "https://localhost:8080/"
        },
        "outputId": "0407af02-887f-4c1f-9f20-624a5500a4dd"
      },
      "outputs": [
        {
          "output_type": "stream",
          "name": "stdout",
          "text": [
            "6250/6250 [==============================] - 5s 788us/step\n",
            "0.96585\n"
          ]
        }
      ],
      "source": [
        "print(accuracy(model))"
      ]
    }
  ]
}